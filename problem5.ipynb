{
 "cells": [
  {
   "cell_type": "code",
   "execution_count": 17,
   "id": "ae67a1e4",
   "metadata": {},
   "outputs": [],
   "source": [
    "import math\n",
    "def LCD(a, b):\n",
    "    gcd = math.gcd(a ,b)\n",
    "    lcd = a*b / gcd\n",
    "    return int(lcd)"
   ]
  },
  {
   "cell_type": "code",
   "execution_count": 25,
   "id": "b9ccce19",
   "metadata": {},
   "outputs": [
    {
     "name": "stdout",
     "output_type": "stream",
     "text": [
      "1 this is i-> 0\n",
      "1 this is i-> 1\n",
      "2 this is i-> 2\n",
      "6 this is i-> 3\n",
      "12 this is i-> 4\n",
      "60 this is i-> 5\n",
      "60 this is i-> 6\n",
      "420 this is i-> 7\n",
      "840 this is i-> 8\n",
      "2520 this is i-> 9\n",
      "2520 this is i-> 10\n",
      "27720 this is i-> 11\n",
      "27720 this is i-> 12\n",
      "360360 this is i-> 13\n",
      "360360 this is i-> 14\n",
      "360360 this is i-> 15\n",
      "720720 this is i-> 16\n",
      "12252240 this is i-> 17\n",
      "12252240 this is i-> 18\n",
      "232792560 this is i-> 19\n"
     ]
    }
   ],
   "source": [
    "a = 1\n",
    "for i in range(20):\n",
    "    print(a, 'when i is: ', i)\n",
    "    a = LCD(a, i+1)"
   ]
  },
  {
   "cell_type": "code",
   "execution_count": null,
   "id": "f2970fe0",
   "metadata": {},
   "outputs": [],
   "source": []
  }
 ],
 "metadata": {
  "kernelspec": {
   "display_name": "Python 3 (ipykernel)",
   "language": "python",
   "name": "python3"
  },
  "language_info": {
   "codemirror_mode": {
    "name": "ipython",
    "version": 3
   },
   "file_extension": ".py",
   "mimetype": "text/x-python",
   "name": "python",
   "nbconvert_exporter": "python",
   "pygments_lexer": "ipython3",
   "version": "3.11.5"
  }
 },
 "nbformat": 4,
 "nbformat_minor": 5
}
